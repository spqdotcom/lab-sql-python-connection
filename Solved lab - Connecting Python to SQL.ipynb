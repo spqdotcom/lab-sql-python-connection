{
 "cells": [
  {
   "cell_type": "code",
   "execution_count": null,
   "id": "019f4598-66df-473a-8f21-a9ca99eb3742",
   "metadata": {},
   "outputs": [],
   "source": [
    "import pandas as pd\n",
    "import numpy as np\n",
    "import pymysql\n",
    "from sqlalchemy import create_engine\n",
    "import getpass  # To get the password without showing the input\n",
    "password = getpass.getpass()"
   ]
  },
  {
   "cell_type": "code",
   "execution_count": null,
   "id": "13c35bff-28f8-4afe-87cc-df3cf888bee5",
   "metadata": {},
   "outputs": [],
   "source": [
    "# Establish a connection between Python and the Sakila database.\n",
    "\n",
    "sd = \"sakila\"\n",
    "connection_string = 'mysql+pymysql://root:' + password + '@localhost/'+sd\n",
    "engine = create_engine(connection_string)\n",
    "engine"
   ]
  },
  {
   "cell_type": "code",
   "execution_count": null,
   "id": "1f0bc8ab-ff48-4ca4-8289-0e7cffc683f4",
   "metadata": {},
   "outputs": [],
   "source": [
    "from sqlalchemy import text"
   ]
  },
  {
   "cell_type": "code",
   "execution_count": null,
   "id": "05db80d5-9707-4f04-bdf3-4403b308d75e",
   "metadata": {},
   "outputs": [],
   "source": [
    "# Write a Python function called rentals_month that retrieves rental data for a given month and year (passed as parameters) from the Sakila database as a Pandas DataFrame. The function should take in three parameters:\n",
    "\n",
    "# engine: an object representing the database connection engine to be used to establish a connection to the Sakila database.\n",
    "# month: an integer representing the month for which rental data is to be retrieved.\n",
    "# year: an integer representing the year for which rental data is to be retrieved.\n",
    "# The function should execute a SQL query to retrieve the rental data for the specified month and year from the rental table in the Sakila database, and return it as a pandas DataFrame.\n",
    "\n",
    "def rentals_month(month,year):\n",
    "    with engine.connect() as connection:\n",
    "        txt = f'''SELECT * \n",
    "                    FROM rental\n",
    "                    WHERE EXTRACT(YEAR FROM rental_date) = {year}\n",
    "                    AND EXTRACT(MONTH FROM rental_date) = {month};'''\n",
    "        query = text(txt)\n",
    "        result = connection.execute(query)\n",
    "        return pd.DataFrame(result.all())"
   ]
  },
  {
   "cell_type": "code",
   "execution_count": null,
   "id": "1d4b2165-28be-4c42-94da-7332caee4161",
   "metadata": {},
   "outputs": [],
   "source": [
    "rentals_month = rentals_month(5,2005)\n",
    "rentals_month"
   ]
  },
  {
   "cell_type": "code",
   "execution_count": null,
   "id": "4d6419ed-e8b2-4a9f-88da-41e1832a679f",
   "metadata": {},
   "outputs": [],
   "source": [
    "#\t1\t2005-05-24 22:53:30\t367\t130\t2005-05-26 22:04:30\t1\t2006-02-15 21:30:53"
   ]
  },
  {
   "cell_type": "code",
   "execution_count": null,
   "id": "289b8531-73d3-4427-8392-5869a9741d79",
   "metadata": {},
   "outputs": [],
   "source": [
    "#SELECT * FROM rental\n",
    "#WHERE EXTRACT(YEAR FROM rental_date) = 2005\n",
    "#AND EXTRACT(MONTH FROM rental_date) = 5;"
   ]
  },
  {
   "cell_type": "code",
   "execution_count": null,
   "id": "ed3e625b-10e9-4bc2-84be-fd0dd1963009",
   "metadata": {},
   "outputs": [],
   "source": [
    "#Develop a Python function called rental_count_month that takes the DataFrame provided by rentals_month as input along with the month and year and returns a new DataFrame containing the number of rentals made by each customer_id during the selected month and year.\n",
    "\n",
    "#The function should also include the month and year as parameters and use them to name the new column according to the month and year, for example, if the input month is 05 and the year is 2005, the column name should be \"rentals_05_2005\".\n",
    "\n",
    "#Hint: Consider making use of pandas groupby()"
   ]
  },
  {
   "cell_type": "code",
   "execution_count": null,
   "id": "acb20041-1016-4f22-b0b9-81a38494d34a",
   "metadata": {},
   "outputs": [],
   "source": [
    "def rental_count_month(rentals_month, month, year):\n",
    "    rentals_month['rental_date'] = pd.to_datetime(rentals_month['rental_date'])\n",
    "    rentals = rentals_month[\n",
    "        (rentals_month['rental_date'].dt.year == year) &\n",
    "        (rentals_month['rental_date'].dt.month == month)]\n",
    "    \n",
    "    rental_counts = rentals.groupby('customer_id').size().reset_index(name=f'rentals_{month:02}_{year}')\n",
    "    \n",
    "    return rental_counts"
   ]
  },
  {
   "cell_type": "code",
   "execution_count": null,
   "id": "13286295-ac19-4e5e-9069-d48330f96abe",
   "metadata": {},
   "outputs": [],
   "source": [
    "rental_count_month(rentals_month, 5, 2005)"
   ]
  },
  {
   "cell_type": "code",
   "execution_count": null,
   "id": "332207c3-5db5-4e26-b4f6-1bf40eb2f834",
   "metadata": {},
   "outputs": [],
   "source": [
    "def compare_rentals(df1, df2, col1, col2):\n",
    "    combined_df = pd.merge(df1, df2, on='customer_id', how='outer', suffixes=('_first', '_second'))\n",
    "    \n",
    "    combined_df.fillna(0, inplace=True)\n",
    "\n",
    "    combined_df['diferencia'] = combined_df[f'{col1}'] - combined_df[f'{col2}']\n",
    "    \n",
    "    return combined_df"
   ]
  },
  {
   "cell_type": "code",
   "execution_count": null,
   "id": "1e5cbf0b-f0cc-49b7-b45f-df7c25402bf8",
   "metadata": {},
   "outputs": [],
   "source": []
  },
  {
   "cell_type": "code",
   "execution_count": null,
   "id": "f5765115-3222-4dc0-a047-de853205a893",
   "metadata": {},
   "outputs": [],
   "source": []
  }
 ],
 "metadata": {
  "kernelspec": {
   "display_name": "Python [conda env:base] *",
   "language": "python",
   "name": "conda-base-py"
  },
  "language_info": {
   "codemirror_mode": {
    "name": "ipython",
    "version": 3
   },
   "file_extension": ".py",
   "mimetype": "text/x-python",
   "name": "python",
   "nbconvert_exporter": "python",
   "pygments_lexer": "ipython3",
   "version": "3.12.7"
  }
 },
 "nbformat": 4,
 "nbformat_minor": 5
}
